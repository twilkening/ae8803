{
 "cells": [
  {
   "cell_type": "code",
   "execution_count": 8,
   "metadata": {},
   "outputs": [],
   "source": [
    "import pandas as pd\n",
    "import matplotlib.pyplot as plt\n",
    "import numpy as np\n",
    "import scipy\n",
    "import math\n",
    "import torch\n",
    "import sys\n",
    "sys.path.insert(0,'C:\\\\Users\\\\twilkeni\\\\AppData\\\\Local\\\\anaconda3\\\\envs\\\\pytorch-env\\\\site-packages')\n",
    "import gpytorch\n",
    "# import pyro\n",
    "# from pyro.infer.mcmc import NUTS, MCMC, HMC\n",
    "from copy import deepcopy\n",
    "from functools import partial\n",
    "from scipy.stats import multivariate_normal\n",
    "from qwiic_ads1115.qwiic_ads1115 import QwiicAds1115\n",
    "import time\n"
   ]
  },
  {
   "cell_type": "code",
   "execution_count": 9,
   "metadata": {},
   "outputs": [
    {
     "name": "stdout",
     "output_type": "stream",
     "text": [
      "ADS1115 successfully initialized and calibrated\n"
     ]
    }
   ],
   "source": [
    "ads = QwiicAds1115()\n",
    "ads.os = '0' # no effect\n",
    "ads.mux = '100' # Analog In, channel 0, compare to GND\n",
    "ads.gain = '000' # +/- 6.144V\n",
    "ads.mode = '0' # continuous\n",
    "ads.data_rate = '100' # 128 SPS\n",
    "ads.comp_que = '11' # disable comparator\n",
    "ads.scale = 1 # 1V = 1kPa delta between ports\n",
    "if ads.is_connected():\n",
    "    ads.configure()\n",
    "    time.sleep(0.5)\n",
    "    ads.calibrate()\n",
    "    \n",
    "    # Confirm calibration set:\n",
    "    if abs(ads.get_measurement()) > 0.1:\n",
    "        print(\"Pressure calibration has likely failed\")\n",
    "    else:\n",
    "        print(\"ADS1115 successfully initialized and calibrated\")\n",
    "else:\n",
    "    print(\"ADS1115 not connected\")"
   ]
  },
  {
   "cell_type": "code",
   "execution_count": 13,
   "metadata": {},
   "outputs": [],
   "source": [
    "def velocity(pressure_diff,rho=1.204):\n",
    "    \"\"\"VELOCITY calculates the velocity of the airflow given a pitot\n",
    "    pressure difference measurement. Calculates velocity regardless\n",
    "    of whether the pitot tube is setup for positive voltage output\n",
    "    on the ADC, or negative voltage output (based on how the pressure\n",
    "    tubes are connected to the pressure sensor).\n",
    "\n",
    "    Args:\n",
    "        pressure_diff (float): total pressure - static pressure [kPa]\n",
    "            (output of MPXV7002 is 1V/kPa)\n",
    "        rho (float): density of the fluid [kg/m^3]\n",
    "            (1.204 kg/m3 at sea level per International Standard\n",
    "            Atmosphere)\n",
    "    Returns:\n",
    "        vel (float): calculated velocity [m/s]\n",
    "    \"\"\"\n",
    "    # calculate velocity per the following resource:\n",
    "    # https://www.grc.nasa.gov/www/k-12/VirtualAero/BottleRocket/airplane/pitot.html\n",
    "    vel = np.sqrt(2*abs(pressure_diff) / rho)\n",
    "    return vel"
   ]
  },
  {
   "cell_type": "code",
   "execution_count": 14,
   "metadata": {},
   "outputs": [
    {
     "data": {
      "text/plain": [
       "0.10384029713444146"
      ]
     },
     "execution_count": 14,
     "metadata": {},
     "output_type": "execute_result"
    }
   ],
   "source": [
    "velocity(ads.get_measurement())"
   ]
  },
  {
   "cell_type": "code",
   "execution_count": 15,
   "metadata": {},
   "outputs": [
    {
     "data": {
      "text/plain": [
       "-0.004053749999999745"
      ]
     },
     "execution_count": 15,
     "metadata": {},
     "output_type": "execute_result"
    }
   ],
   "source": [
    "ads.get_measurement()"
   ]
  },
  {
   "cell_type": "code",
   "execution_count": null,
   "metadata": {},
   "outputs": [],
   "source": []
  }
 ],
 "metadata": {
  "kernelspec": {
   "display_name": "Python 3",
   "language": "python",
   "name": "python3"
  },
  "language_info": {
   "codemirror_mode": {
    "name": "ipython",
    "version": 3
   },
   "file_extension": ".py",
   "mimetype": "text/x-python",
   "name": "python",
   "nbconvert_exporter": "python",
   "pygments_lexer": "ipython3",
   "version": "3.6.9"
  }
 },
 "nbformat": 4,
 "nbformat_minor": 4
}
