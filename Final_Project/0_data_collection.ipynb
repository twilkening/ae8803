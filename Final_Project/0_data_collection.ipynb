{
 "cells": [
  {
   "cell_type": "markdown",
   "id": "personal-currency",
   "metadata": {},
   "source": [
    "# Data Collection Notebook"
   ]
  },
  {
   "cell_type": "markdown",
   "id": "intensive-liability",
   "metadata": {},
   "source": [
    "This notebook collects data from the pitot tube sensor as the Jetbot rotates in a circle. A fan is blowing towards the center of the circle such that the pitot tube is parallel to the flow once every rotation.\n",
    "\n",
    "The point of collecting this data is to get an idea of the type of data that the GP will have to model and predict for - the goal is to build a model off-line using this data (and potentially simulated data that is similar to the collected data), and then adapt it for an on-line GP prediction model."
   ]
  },
  {
   "cell_type": "markdown",
   "id": "indoor-brazilian",
   "metadata": {},
   "source": [
    "## Package Imports"
   ]
  },
  {
   "cell_type": "code",
   "execution_count": 1,
   "id": "musical-greek",
   "metadata": {},
   "outputs": [
    {
     "name": "stdout",
     "output_type": "stream",
     "text": [
      "Error loading module `ublox_gps`: No module named 'serial'\n"
     ]
    }
   ],
   "source": [
    "from qwiic_ads1115.qwiic_ads1115 import QwiicAds1115\n",
    "import time\n",
    "from jetbot import Robot\n",
    "from jetbot import Heartbeat\n",
    "import ipywidgets.widgets as widgets\n",
    "from IPython.display import display\n",
    "import traitlets\n",
    "import numpy as np"
   ]
  },
  {
   "cell_type": "markdown",
   "id": "express-expert",
   "metadata": {},
   "source": [
    "## Initialize the ADS1115 Pressure Sensor"
   ]
  },
  {
   "cell_type": "code",
   "execution_count": 2,
   "id": "choice-application",
   "metadata": {},
   "outputs": [
    {
     "name": "stdout",
     "output_type": "stream",
     "text": [
      "ADS1115 successfully initialized and calibrated\n"
     ]
    }
   ],
   "source": [
    "ads = QwiicAds1115()\n",
    "ads.os = '0' # no effect\n",
    "ads.mux = '100' # Analog In, channel 0, compare to GND\n",
    "ads.gain = '000' # +/- 6.144V\n",
    "ads.mode = '0' # continuous\n",
    "ads.data_rate = '100' # 128 SPS\n",
    "ads.comp_que = '11' # disable comparator\n",
    "ads.scale = 1 # 1V = 1kPa delta between ports\n",
    "if ads.is_connected():\n",
    "    ads.configure()\n",
    "    time.sleep(0.5)\n",
    "    ads.calibrate()\n",
    "    \n",
    "    # Confirm calibration set:\n",
    "    if abs(ads.get_measurement()) > 0.1:\n",
    "        print(\"Pressure calibration has likely failed\")\n",
    "    else:\n",
    "        print(\"ADS1115 successfully initialized and calibrated\")\n",
    "else:\n",
    "    print(\"ADS1115 not connected\")\n",
    "        "
   ]
  },
  {
   "cell_type": "markdown",
   "id": "italic-express",
   "metadata": {},
   "source": [
    "## Setup the Fan"
   ]
  },
  {
   "cell_type": "markdown",
   "id": "north-cookbook",
   "metadata": {},
   "source": [
    "Manually power on the fan now and place radially to the Jetbot's path (for simplicity, place orthogonal to the Jetbots current orientation). In the following code, the Jetbot will be programmed to travel in a circle approximitely 1 meter in diameter."
   ]
  },
  {
   "cell_type": "markdown",
   "id": "subtle-payroll",
   "metadata": {},
   "source": [
    "## Start the Jetbot Motion"
   ]
  },
  {
   "cell_type": "code",
   "execution_count": 3,
   "id": "prime-dining",
   "metadata": {},
   "outputs": [],
   "source": [
    "robot = Robot()"
   ]
  },
  {
   "cell_type": "code",
   "execution_count": 4,
   "id": "standard-marriage",
   "metadata": {},
   "outputs": [
    {
     "data": {
      "application/vnd.jupyter.widget-view+json": {
       "model_id": "accd0296f8b047b4880c600ad87ed03f",
       "version_major": 2,
       "version_minor": 0
      },
      "text/plain": [
       "FloatSlider(value=0.5, description='period', max=0.5, min=0.001, step=0.01)"
      ]
     },
     "metadata": {},
     "output_type": "display_data"
    },
    {
     "data": {
      "application/vnd.jupyter.widget-view+json": {
       "model_id": "d7dc67b58f5749e8b6cb22b45cb80c4d",
       "version_major": 2,
       "version_minor": 0
      },
      "text/plain": [
       "FloatText(value=1714334844.2540154)"
      ]
     },
     "metadata": {},
     "output_type": "display_data"
    }
   ],
   "source": [
    "# Heartbeat kill switch, from basic_motion.py example notebook\n",
    "\n",
    "heartbeat = Heartbeat()\n",
    "\n",
    "# this function will be called when heartbeat 'alive' status changes\n",
    "def handle_heartbeat_status(change):\n",
    "    if change['new'] == Heartbeat.Status.dead:\n",
    "        robot.stop()\n",
    "        \n",
    "heartbeat.observe(handle_heartbeat_status, names='status')\n",
    "\n",
    "period_slider = widgets.FloatSlider(description='period', min=0.001, max=1.0, step=0.01, value=1.0)\n",
    "traitlets.dlink((period_slider, 'value'), (heartbeat, 'period'))\n",
    "\n",
    "display(period_slider, heartbeat.pulseout)"
   ]
  },
  {
   "cell_type": "code",
   "execution_count": 4,
   "id": "important-suffering",
   "metadata": {},
   "outputs": [],
   "source": [
    "robot = Robot()"
   ]
  },
  {
   "cell_type": "code",
   "execution_count": 5,
   "id": "fixed-rescue",
   "metadata": {},
   "outputs": [],
   "source": [
    "# calibrate right before data collection to account for drift\n",
    "ads.calibrate()\n",
    "\n",
    "# adjust as needed to get a circle of ~1m in diameter\n",
    "robot.left_motor.value = 0.6*0.8\n",
    "robot.right_motor.value = 0.4*0.8"
   ]
  },
  {
   "cell_type": "code",
   "execution_count": 7,
   "id": "martial-locator",
   "metadata": {},
   "outputs": [],
   "source": [
    "robot.stop()"
   ]
  },
  {
   "cell_type": "markdown",
   "id": "political-montgomery",
   "metadata": {},
   "source": [
    "## Data Collection"
   ]
  },
  {
   "cell_type": "code",
   "execution_count": 3,
   "id": "fifth-claim",
   "metadata": {},
   "outputs": [],
   "source": [
    "# dictionary of data sampling rates\n",
    "rates = {'000': 8, '001': 16, '010': 32, '011': 64, '100': 128, '101': 250, '110': 475, '111': 860}\n",
    "# ts = 1/rates[ads.data_rate] # sampling period\n",
    "ts = 1/rates['011'] # NOTE: hard-code 64Hz - may be slower than actual data_rate\n",
    "tcollect = 10 # seconds to collect data\n",
    "n = tcollect/ts\n",
    "data = np.zeros((int(n),2))\n",
    "\n",
    "i = 0\n",
    "t0 = time.time()\n",
    "tm = t0\n",
    "# ts/2 in the while loop evaluation adds some buffer\n",
    "while tm < t0 + tcollect + ts:\n",
    "    # measurement + time of measurement\n",
    "    tm = time.time()\n",
    "    meas = ads.measure\n",
    "    \n",
    "    # add to the data array\n",
    "    if i < n:\n",
    "        data[i,:] = [tm, meas]\n",
    "    \n",
    "    i += 1\n",
    "    \n",
    "    tdelta = t0 + ts * i - time.time()\n",
    "    if tdelta < 0:\n",
    "        continue\n",
    "    else:\n",
    "        time.sleep(tdelta)\n",
    "    \n",
    "# save the measurement array for later use. time-stamp data collection with YYYY-MM-DDThhmmss\n",
    "fn = \"data/sample_data_\" + time.strftime(\"%Y_%m_%dT%H%M%S\",time.localtime()) + \".csv\"\n",
    "np.savetxt(fn,data, delimiter=',')"
   ]
  },
  {
   "cell_type": "markdown",
   "id": "selected-sewing",
   "metadata": {},
   "source": [
    "## Visualize Data"
   ]
  },
  {
   "cell_type": "code",
   "execution_count": 1,
   "id": "particular-acceptance",
   "metadata": {},
   "outputs": [],
   "source": [
    "import matplotlib.pyplot as plt"
   ]
  },
  {
   "cell_type": "code",
   "execution_count": 2,
   "id": "collective-release",
   "metadata": {},
   "outputs": [],
   "source": [
    "# import data?\n",
    "import pandas as pd\n",
    "data_in = pd.read_csv('data/sample_data_2024_05_05T212759.csv', sep=',', header=None)\n",
    "data = data_in.values"
   ]
  },
  {
   "cell_type": "code",
   "execution_count": 3,
   "id": "eleven-robinson",
   "metadata": {},
   "outputs": [
    {
     "data": {
      "text/plain": [
       "-0.015599963441491126"
      ]
     },
     "execution_count": 3,
     "metadata": {},
     "output_type": "execute_result"
    }
   ],
   "source": [
    "(data[0,0] - data[-1,0])/len(data)"
   ]
  },
  {
   "cell_type": "code",
   "execution_count": 4,
   "id": "sensitive-narrow",
   "metadata": {},
   "outputs": [],
   "source": [
    "ts = 1/64"
   ]
  },
  {
   "cell_type": "code",
   "execution_count": 5,
   "id": "affiliated-cuisine",
   "metadata": {},
   "outputs": [
    {
     "data": {
      "text/plain": [
       "<function matplotlib.pyplot.show(close=None, block=None)>"
      ]
     },
     "execution_count": 5,
     "metadata": {},
     "output_type": "execute_result"
    },
    {
     "data": {
      "image/png": "[encoded data removed]",
      "text/plain": [
       "<Figure size 1008x288 with 1 Axes>"
      ]
     },
     "metadata": {
      "needs_background": "light"
     },
     "output_type": "display_data"
    }
   ],
   "source": [
    "fig = plt.figure(figsize=(14,4))\n",
    "\n",
    "plt.scatter(data[:,0] - data[0,0],data[:,1], label=str(int(1/ts))+\"Hz initial data\")\n",
    "plt.title('Initial Data Acquisition for EDA')\n",
    "plt.xlabel('Time [s]')\n",
    "plt.ylabel(r'$\\Delta$P [kPa]')\n",
    "plt.legend()\n",
    "plt.show"
   ]
  },
  {
   "cell_type": "markdown",
   "id": "french-favorite",
   "metadata": {},
   "source": [
    "It's interesting to note that in the plot for data collected in file `Notebooks/ae8803/Final_Project/data/sample_data_2024_04_28T220150.csv`, you can see that there is a small spike whenever I move the Jetbot so that it continues to move in a circle without bumping into my bookshelf (the circle motion of the bot is not perfect). This could be higher noise, or it could also be that I'm moving the robot fast enough for it to detect motion."
   ]
  }
 ],
 "metadata": {
  "kernelspec": {
   "display_name": "Python 3",
   "language": "python",
   "name": "python3"
  },
  "language_info": {
   "codemirror_mode": {
    "name": "ipython",
    "version": 3
   },
   "file_extension": ".py",
   "mimetype": "text/x-python",
   "name": "python",
   "nbconvert_exporter": "python",
   "pygments_lexer": "ipython3",
   "version": "3.6.9"
  }
 },
 "nbformat": 4,
 "nbformat_minor": 5
}
