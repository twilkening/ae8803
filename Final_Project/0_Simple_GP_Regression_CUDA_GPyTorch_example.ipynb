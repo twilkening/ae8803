{
 "cells": [
  {
   "cell_type": "markdown",
   "metadata": {},
   "source": [
    "# GPyTorch Regression Tutorial (GPU)\n",
    "\n",
    "(This notebook is the same as the [simple GP regression tutorial](../01_Exact_GPs/Simple_GP_Regression.ipynb) notebook, but does all computations on a GPU for acceleration.\n",
    "Check out the [multi-GPU tutorial](./Simple_MultiGPU_GP_Regression.ipynb) if you have large datasets that needs multiple GPUs!) "
   ]
  },
  {
   "cell_type": "markdown",
   "metadata": {},
   "source": [
    "## Introduction\n",
    "\n",
    "In this notebook, we demonstrate many of the design features of GPyTorch using the simplest example, training an RBF kernel Gaussian process on a simple function. We'll be modeling the function\n",
    "\n",
    "\\begin{align}\n",
    "  y &= \\sin(2\\pi x) + \\epsilon \\\\ \n",
    "  \\epsilon &\\sim \\mathcal{N}(0, 0.2) \n",
    "\\end{align}\n",
    "\n",
    "with 11 training examples, and testing on 51 test examples."
   ]
  },
  {
   "cell_type": "code",
   "execution_count": 1,
   "metadata": {},
   "outputs": [],
   "source": [
    "import math\n",
    "import torch\n",
    "import gpytorch\n",
    "from matplotlib import pyplot as plt\n",
    "\n",
    "# %matplotlib inline\n",
    "# %load_ext autoreload\n",
    "# %autoreload 2"
   ]
  },
  {
   "cell_type": "markdown",
   "metadata": {},
   "source": [
    "### Set up training data\n",
    "\n",
    "In the next cell, we set up the training data for this example. We'll be using 11 regularly spaced points on [0,1] which we evaluate the function on and add Gaussian noise to get the training labels."
   ]
  },
  {
   "cell_type": "code",
   "execution_count": 2,
   "metadata": {},
   "outputs": [],
   "source": [
    "# Training data is 11 points in [0,1] inclusive regularly spaced\n",
    "train_x = torch.linspace(0, 1, 100, dtype=torch.double)\n",
    "# True function is sin(2*pi*x) with Gaussian noise\n",
    "train_y = torch.sin(train_x * (2 * math.pi)) + torch.randn(train_x.size()) * 0.2"
   ]
  },
  {
   "cell_type": "code",
   "execution_count": 3,
   "metadata": {},
   "outputs": [
    {
     "data": {
      "image/png": "[encoded data removed]",
      "text/plain": [
       "<Figure size 288x216 with 1 Axes>"
      ]
     },
     "metadata": {
      "needs_background": "light"
     },
     "output_type": "display_data"
    }
   ],
   "source": [
    "with torch.no_grad():\n",
    "    # Initialize plot\n",
    "    f, ax = plt.subplots(1, 1, figsize=(4, 3))\n",
    "\n",
    "    # Plot training data as black stars\n",
    "    ax.plot(train_x.numpy(), train_y.numpy(), 'k*')\n",
    "    ax.set_ylim([-3, 3])\n",
    "    ax.legend(['Observed Data'])"
   ]
  },
  {
   "cell_type": "markdown",
   "metadata": {},
   "source": [
    "### Setting up the model\n",
    "\n",
    "See [the simple GP regression tutorial](../01_Exact_GPs/Simple_GP_Regression.ipynb) for a detailed explanation for all the terms."
   ]
  },
  {
   "cell_type": "code",
   "execution_count": 4,
   "metadata": {},
   "outputs": [],
   "source": [
    "class ExactGPModel(gpytorch.models.ExactGP):\n",
    "    def __init__(self, train_x, train_y, likelihood):\n",
    "        super(ExactGPModel, self).__init__(train_x, train_y, likelihood)\n",
    "        self.mean_module = gpytorch.means.ConstantMean()\n",
    "        self.covar_module = gpytorch.kernels.ScaleKernel(gpytorch.kernels.RBFKernel())\n",
    "    \n",
    "    def forward(self, x):\n",
    "        mean_x = self.mean_module(x)\n",
    "        covar_x = self.covar_module(x)\n",
    "        return gpytorch.distributions.MultivariateNormal(mean_x, covar_x)\n",
    "\n",
    "# initialize likelihood and model\n",
    "likelihood = gpytorch.likelihoods.GaussianLikelihood()\n",
    "model = ExactGPModel(train_x, train_y, likelihood)"
   ]
  },
  {
   "cell_type": "markdown",
   "metadata": {},
   "source": [
    "## Using the GPU\n",
    "\n",
    "To do computations on the GPU, we need to put our data and model onto the GPU. (This requires PyTorch with CUDA)."
   ]
  },
  {
   "cell_type": "code",
   "execution_count": 5,
   "metadata": {},
   "outputs": [],
   "source": [
    "train_x = train_x.cuda()\n",
    "train_y = train_y.cuda()\n",
    "model = model.cuda()\n",
    "likelihood = likelihood.cuda()"
   ]
  },
  {
   "cell_type": "markdown",
   "metadata": {},
   "source": [
    "That's it! All the training code is the same as in [the simple GP regression tutorial](../01_Exact_GPs/Simple_GP_Regression.ipynb)."
   ]
  },
  {
   "cell_type": "markdown",
   "metadata": {},
   "source": [
    "### Training the model"
   ]
  },
  {
   "cell_type": "code",
   "execution_count": 6,
   "metadata": {},
   "outputs": [
    {
     "name": "stdout",
     "output_type": "stream",
     "text": [
      "Iter 1/50 - Loss: 0.921   lengthscale: 0.693   noise: 0.693\n",
      "Iter 2/50 - Loss: 0.889   lengthscale: 0.644   noise: 0.644\n",
      "Iter 3/50 - Loss: 0.854   lengthscale: 0.598   noise: 0.598\n",
      "Iter 4/50 - Loss: 0.816   lengthscale: 0.555   noise: 0.554\n",
      "Iter 5/50 - Loss: 0.773   lengthscale: 0.514   noise: 0.513\n",
      "Iter 6/50 - Loss: 0.725   lengthscale: 0.475   noise: 0.474\n",
      "Iter 7/50 - Loss: 0.674   lengthscale: 0.439   noise: 0.437\n",
      "Iter 8/50 - Loss: 0.622   lengthscale: 0.404   noise: 0.402\n",
      "Iter 9/50 - Loss: 0.572   lengthscale: 0.372   noise: 0.369\n",
      "Iter 10/50 - Loss: 0.526   lengthscale: 0.342   noise: 0.339\n",
      "Iter 11/50 - Loss: 0.484   lengthscale: 0.315   noise: 0.310\n",
      "Iter 12/50 - Loss: 0.444   lengthscale: 0.291   noise: 0.284\n",
      "Iter 13/50 - Loss: 0.407   lengthscale: 0.272   noise: 0.259\n",
      "Iter 14/50 - Loss: 0.371   lengthscale: 0.256   noise: 0.237\n",
      "Iter 15/50 - Loss: 0.334   lengthscale: 0.243   noise: 0.216\n",
      "Iter 16/50 - Loss: 0.298   lengthscale: 0.233   noise: 0.196\n",
      "Iter 17/50 - Loss: 0.262   lengthscale: 0.226   noise: 0.178\n",
      "Iter 18/50 - Loss: 0.226   lengthscale: 0.221   noise: 0.162\n",
      "Iter 19/50 - Loss: 0.189   lengthscale: 0.218   noise: 0.147\n",
      "Iter 20/50 - Loss: 0.153   lengthscale: 0.218   noise: 0.134\n",
      "Iter 21/50 - Loss: 0.116   lengthscale: 0.219   noise: 0.121\n",
      "Iter 22/50 - Loss: 0.080   lengthscale: 0.221   noise: 0.110\n",
      "Iter 23/50 - Loss: 0.045   lengthscale: 0.225   noise: 0.100\n",
      "Iter 24/50 - Loss: 0.010   lengthscale: 0.230   noise: 0.091\n",
      "Iter 25/50 - Loss: -0.023   lengthscale: 0.237   noise: 0.082\n",
      "Iter 26/50 - Loss: -0.055   lengthscale: 0.244   noise: 0.075\n",
      "Iter 27/50 - Loss: -0.086   lengthscale: 0.253   noise: 0.068\n",
      "Iter 28/50 - Loss: -0.114   lengthscale: 0.262   noise: 0.062\n",
      "Iter 29/50 - Loss: -0.139   lengthscale: 0.272   noise: 0.056\n",
      "Iter 30/50 - Loss: -0.162   lengthscale: 0.282   noise: 0.051\n",
      "Iter 31/50 - Loss: -0.181   lengthscale: 0.292   noise: 0.047\n",
      "Iter 32/50 - Loss: -0.197   lengthscale: 0.301   noise: 0.043\n",
      "Iter 33/50 - Loss: -0.209   lengthscale: 0.308   noise: 0.040\n",
      "Iter 34/50 - Loss: -0.219   lengthscale: 0.314   noise: 0.036\n",
      "Iter 35/50 - Loss: -0.226   lengthscale: 0.316   noise: 0.034\n",
      "Iter 36/50 - Loss: -0.232   lengthscale: 0.316   noise: 0.031\n",
      "Iter 37/50 - Loss: -0.236   lengthscale: 0.313   noise: 0.029\n",
      "Iter 38/50 - Loss: -0.238   lengthscale: 0.308   noise: 0.027\n",
      "Iter 39/50 - Loss: -0.238   lengthscale: 0.302   noise: 0.026\n",
      "Iter 40/50 - Loss: -0.237   lengthscale: 0.295   noise: 0.024\n",
      "Iter 41/50 - Loss: -0.234   lengthscale: 0.289   noise: 0.023\n",
      "Iter 42/50 - Loss: -0.231   lengthscale: 0.283   noise: 0.022\n",
      "Iter 43/50 - Loss: -0.227   lengthscale: 0.278   noise: 0.022\n",
      "Iter 44/50 - Loss: -0.223   lengthscale: 0.273   noise: 0.021\n",
      "Iter 45/50 - Loss: -0.220   lengthscale: 0.271   noise: 0.021\n",
      "Iter 46/50 - Loss: -0.219   lengthscale: 0.269   noise: 0.021\n",
      "Iter 47/50 - Loss: -0.218   lengthscale: 0.268   noise: 0.021\n",
      "Iter 48/50 - Loss: -0.218   lengthscale: 0.269   noise: 0.021\n",
      "Iter 49/50 - Loss: -0.220   lengthscale: 0.270   noise: 0.021\n",
      "Iter 50/50 - Loss: -0.222   lengthscale: 0.273   noise: 0.021\n"
     ]
    }
   ],
   "source": [
    "# Find optimal model hyperparameters\n",
    "model.train()\n",
    "likelihood.train()\n",
    "\n",
    "# Use the adam optimizer\n",
    "optimizer = torch.optim.Adam(model.parameters(), lr=0.1)  # Includes GaussianLikelihood parameters\n",
    "\n",
    "# \"Loss\" for GPs - the marginal log likelihood\n",
    "mll = gpytorch.mlls.ExactMarginalLogLikelihood(likelihood, model)\n",
    "\n",
    "training_iter = 50\n",
    "for i in range(training_iter):\n",
    "    # Zero gradients from previous iteration\n",
    "    optimizer.zero_grad()\n",
    "    # Output from model\n",
    "    output = model(train_x)\n",
    "    # Calc loss and backprop gradients\n",
    "    loss = -mll(output, train_y)\n",
    "    loss.backward()\n",
    "    print('Iter %d/%d - Loss: %.3f   lengthscale: %.3f   noise: %.3f' % (\n",
    "        i + 1, training_iter, loss.item(),\n",
    "        model.covar_module.base_kernel.lengthscale.item(),\n",
    "        model.likelihood.noise.item()\n",
    "    ))\n",
    "    optimizer.step()"
   ]
  },
  {
   "cell_type": "markdown",
   "metadata": {},
   "source": [
    "### Make predictions with the model\n",
    "\n",
    "First, we need to make some test data, and then throw it onto the GPU"
   ]
  },
  {
   "cell_type": "code",
   "execution_count": 7,
   "metadata": {},
   "outputs": [],
   "source": [
    "test_x = torch.linspace(0, 1, 51).cuda()"
   ]
  },
  {
   "cell_type": "markdown",
   "metadata": {},
   "source": [
    "Now the rest of the code follows [the simple GP regression tutorial](../01_Exact_GPs/Simple_GP_Regression.ipynb)."
   ]
  },
  {
   "cell_type": "code",
   "execution_count": 8,
   "metadata": {},
   "outputs": [],
   "source": [
    "# Get into evaluation (predictive posterior) mode\n",
    "model.eval()\n",
    "likelihood.eval()\n",
    "\n",
    "# Test points are regularly spaced along [0,1]\n",
    "# Make predictions by feeding model through likelihood\n",
    "with torch.no_grad(), gpytorch.settings.fast_pred_var():\n",
    "    observed_pred = likelihood(model(test_x))\n",
    "    mean = observed_pred.mean\n",
    "    lower, upper = observed_pred.confidence_region()"
   ]
  },
  {
   "cell_type": "markdown",
   "metadata": {},
   "source": [
    "For plotting, we're going to grab the data from the GPU and put it back on the CPU.\n",
    "We can accomplish this with the `.cpu()` function."
   ]
  },
  {
   "cell_type": "code",
   "execution_count": 9,
   "metadata": {},
   "outputs": [],
   "source": [
    "mean = mean.cpu()\n",
    "lower = lower.cpu()\n",
    "upper = upper.cpu()\n",
    "\n",
    "train_x = train_x.cpu()\n",
    "train_y = train_y.cpu()\n",
    "test_x = test_x.cpu()"
   ]
  },
  {
   "cell_type": "code",
   "execution_count": 10,
   "metadata": {},
   "outputs": [
    {
     "data": {
      "image/png": "[encoded data removed]",
      "text/plain": [
       "<Figure size 288x216 with 1 Axes>"
      ]
     },
     "metadata": {
      "needs_background": "light"
     },
     "output_type": "display_data"
    }
   ],
   "source": [
    "with torch.no_grad():\n",
    "    # Initialize plot\n",
    "    f, ax = plt.subplots(1, 1, figsize=(4, 3))\n",
    "\n",
    "    # Plot training data as black stars\n",
    "    ax.plot(train_x.numpy(), train_y.numpy(), 'k*')\n",
    "    # Plot predictive means as blue line\n",
    "    ax.plot(test_x.numpy(), mean.numpy(), 'b')\n",
    "    # Shade between the lower and upper confidence bounds\n",
    "    ax.fill_between(test_x.numpy(), lower.numpy(), upper.numpy(), alpha=0.5)\n",
    "    ax.set_ylim([-3, 3])\n",
    "    ax.legend(['Observed Data', 'Mean', 'Confidence'])"
   ]
  },
  {
   "cell_type": "code",
   "execution_count": null,
   "metadata": {},
   "outputs": [],
   "source": []
  }
 ],
 "metadata": {
  "anaconda-cloud": {},
  "kernelspec": {
   "display_name": "Python 3",
   "language": "python",
   "name": "python3"
  },
  "language_info": {
   "codemirror_mode": {
    "name": "ipython",
    "version": 3
   },
   "file_extension": ".py",
   "mimetype": "text/x-python",
   "name": "python",
   "nbconvert_exporter": "python",
   "pygments_lexer": "ipython3",
   "version": "3.6.9"
  }
 },
 "nbformat": 4,
 "nbformat_minor": 4
}
