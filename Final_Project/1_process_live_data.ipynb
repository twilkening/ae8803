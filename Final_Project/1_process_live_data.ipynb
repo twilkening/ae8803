{
 "cells": [
  {
   "cell_type": "markdown",
   "metadata": {},
   "source": [
    "# AE8803 Final Project"
   ]
  },
  {
   "cell_type": "markdown",
   "metadata": {},
   "source": [
    "Author: Teo Wilkening\n",
    "\n",
    "Class: AE8803 Machine Learning with Gaussian Processes\n",
    "\n",
    "Due Date: 2024-05-03"
   ]
  },
  {
   "cell_type": "markdown",
   "metadata": {},
   "source": [
    "This notebook has been built to show the real-time processing of\n",
    "pressure readings received from a pressure sensor and pitot tube\n",
    "attached to the Jetbot robot.\n",
    "\n",
    "The goals of this project are:\n",
    "1. Build a GP to predict the upcoming pressure readings.\n",
    "2. Graphically display the GP predictions vs. observations.\n",
    "3. Update the GP model at a specified interval based on observations.\n",
    "\n",
    "Below is the data flow architecture that has been implemented to achieve the above\n",
    "goals. Supporting files are attached in the submission and may be found on\n",
    "GitHub: [ae8803/Final_Project](https://github.com/twilkening/ae8803/tree/main/Final_Project)\n",
    "\n",
    "![diagram of the flow of data during processing](diagrams/data_flow.jpg)"
   ]
  },
  {
   "cell_type": "markdown",
   "metadata": {},
   "source": [
    "## Start the Background Processes"
   ]
  },
  {
   "cell_type": "code",
   "execution_count": 9,
   "metadata": {},
   "outputs": [],
   "source": [
    "import subprocess\n",
    "import sys"
   ]
  },
  {
   "cell_type": "code",
   "execution_count": 10,
   "metadata": {},
   "outputs": [],
   "source": [
    "def start_background_process(command, stdout_file, stderr_file):\n",
    "    \"\"\"Starts a background process and redirects its stdout and stderr to specified files.\"\"\"\n",
    "    # Open both files for writing\n",
    "    stdout_f = open(stdout_file, \"w\")\n",
    "    stderr_f = open(stderr_file, \"w\")\n",
    "\n",
    "    process = subprocess.Popen(command, shell=True,\n",
    "                                stdout=stdout_f,\n",
    "                                stderr=stderr_f)\n",
    "    return process, stdout_f, stderr_f\n",
    "\n",
    "# DAQ process\n",
    "if sys.platform == \"win32\":\n",
    "    daq_proc, daq_stdout, daq_stderr = \\\n",
    "        start_background_process(\"python 1_DAQ_fake.py\", \"daq_stdout.log\", \"daq_stderr.log\")\n",
    "else:\n",
    "    daq_proc, daq_stdout, daq_stderr = \\\n",
    "        start_background_process(\"python 1_DAQ.py\", \"daq_stdout.log\", \"daq_stderr.log\")\n",
    "\n",
    "# GP Update process\n",
    "gp_proc, gp_stdout, gp_stderr = \\\n",
    "    start_background_process(\"python 1_GPUpdate.py\", \"gp_stdout.log\", \"gp_stderr.log\")\n"
   ]
  },
  {
   "cell_type": "markdown",
   "metadata": {},
   "source": [
    "## Start the Plotting"
   ]
  },
  {
   "cell_type": "code",
   "execution_count": null,
   "metadata": {},
   "outputs": [],
   "source": []
  },
  {
   "cell_type": "markdown",
   "metadata": {},
   "source": [
    "## Kill the Background Processes"
   ]
  },
  {
   "cell_type": "code",
   "execution_count": 11,
   "metadata": {},
   "outputs": [
    {
     "name": "stdout",
     "output_type": "stream",
     "text": [
      "stdout files closed\n",
      "stdout files closed\n"
     ]
    }
   ],
   "source": [
    "def kill_process(process, stdout_f, stderr_f):\n",
    "    \"\"\"Kills a process given a subprocess.Popen object.\"\"\"\n",
    "    try:\n",
    "        process.terminate()  # Sends SIGTERM\n",
    "        process.wait(timeout=5)  # Wait up to 5 seconds for the process to gracefully exit\n",
    "        stdout_f.close()\n",
    "        stderr_f.close()\n",
    "        print(\"stdout files closed\")\n",
    "    except subprocess.TimeoutExpired:\n",
    "        process.kill()  # Force kill if not terminated after timeout\n",
    "        process.wait()  # Wait for the process to be killed\n",
    "        stdout_f.close()\n",
    "        stderr_f.close()\n",
    "        print(\"stdout files closed\")\n",
    "    except Exception as e:\n",
    "        print(f\"Failed to kill the process: {str(e)}\")\n",
    "\n",
    "kill_process(daq_proc, daq_stdout, daq_stderr)\n",
    "kill_process(gp_proc, gp_stdout, gp_stderr)"
   ]
  }
 ],
 "metadata": {
  "kernelspec": {
   "display_name": "pytorch-env",
   "language": "python",
   "name": "python3"
  },
  "language_info": {
   "codemirror_mode": {
    "name": "ipython",
    "version": 3
   },
   "file_extension": ".py",
   "mimetype": "text/x-python",
   "name": "python",
   "nbconvert_exporter": "python",
   "pygments_lexer": "ipython3",
   "version": "3.8.19"
  }
 },
 "nbformat": 4,
 "nbformat_minor": 2
}
