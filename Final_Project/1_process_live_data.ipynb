{
 "cells": [
  {
   "cell_type": "markdown",
   "metadata": {},
   "source": [
    "# AE8803 Final Project"
   ]
  },
  {
   "cell_type": "markdown",
   "metadata": {},
   "source": [
    "Author: Teo Wilkening\n",
    "\n",
    "Class: AE8803 Machine Learning with Gaussian Processes\n",
    "\n",
    "Due Date: 2024-05-03"
   ]
  },
  {
   "cell_type": "markdown",
   "metadata": {},
   "source": [
    "This notebook has been built to show the real-time processing of\n",
    "pressure readings received from a pressure sensor and pitot tube\n",
    "attached to the Jetbot robot.\n",
    "\n",
    "The goals of this project are:\n",
    "1. Build a GP to predict the upcoming pressure readings.\n",
    "2. Graphically display the GP predictions vs. observations.\n",
    "3. Update the GP model at a specified interval based on observations.\n",
    "\n",
    "Below is the data flow architecture that has been implemented to achieve the above\n",
    "goals. Supporting files are attached in the submission and may be found on\n",
    "GitHub: [ae8803/Final_Project](https://github.com/twilkening/ae8803/tree/main/Final_Project)\n",
    "\n",
    "![diagram of the flow of data during processing](diagrams/data_flow.jpg)"
   ]
  },
  {
   "cell_type": "markdown",
   "metadata": {},
   "source": [
    "## Package Imports"
   ]
  },
  {
   "cell_type": "code",
   "execution_count": 5,
   "metadata": {},
   "outputs": [],
   "source": [
    "# %matplotlib widget\n",
    "import subprocess\n",
    "import time\n",
    "import matplotlib.pyplot as plt\n",
    "from IPython.display import display, clear_output\n",
    "import numpy as np\n",
    "import logging\n",
    "import psycopg2\n",
    "import torch\n",
    "import sys\n",
    "\n",
    "if sys.platform == \"win32\":\n",
    "    sys.path.insert(\n",
    "        0,\n",
    "        \"C:\\\\Users\\\\twilkeni\\\\AppData\\\\Local\"\n",
    "        + \"\\\\anaconda3\\\\envs\\\\pytorch-env\\\\site-packages\",\n",
    "    )\n",
    "import gpytorch\n",
    "from config import load_config\n",
    "import PLOT\n",
    "\n",
    "logger = logging.getLogger(__name__)\n",
    "FORMAT = \"[%(filename)s:%(lineno)s - %(funcName)20s() ] %(asctime)s : %(message)s\"\n",
    "logging.basicConfig(\n",
    "    filename=\"logs/notebook.log\", filemode=\"w\", format=FORMAT, level=logging.DEBUG, datefmt='%Y-%m-%d %H:%M:%S'\n",
    ")\n",
    "\n",
    "torch.set_default_dtype(torch.float64)"
   ]
  },
  {
   "cell_type": "markdown",
   "metadata": {},
   "source": [
    "## Start the Background Processes"
   ]
  },
  {
   "cell_type": "code",
   "execution_count": 4,
   "metadata": {},
   "outputs": [],
   "source": [
    "def start_background_process(command, stdout_file, stderr_file):\n",
    "    \"\"\"Starts a background process and redirects its stdout and stderr to specified files.\"\"\"\n",
    "    # Open both files for writing\n",
    "    stdout_f = open(stdout_file, \"w\")\n",
    "    stderr_f = open(stderr_file, \"w\")\n",
    "\n",
    "    process = subprocess.Popen(command, shell=True,\n",
    "                                stdout=stdout_f,\n",
    "                                stderr=stderr_f)\n",
    "    logger.debug(f\"{command} PID is: {process.pid}\")\n",
    "    return process, stdout_f, stderr_f\n",
    "\n",
    "# DAQ process\n",
    "if sys.platform == \"win32\":\n",
    "    daq_proc, daq_stdout, daq_stderr = \\\n",
    "        start_background_process(\"python DAQ_fake.py\", \"daq_stdout.log\", \"daq_stderr.log\")\n",
    "else:\n",
    "    daq_proc, daq_stdout, daq_stderr = \\\n",
    "        start_background_process(\"python DAQ.py\", \"daq_stdout.log\", \"daq_stderr.log\")\n",
    "\n",
    "# GP Update process\n",
    "gp_proc, gp_stdout, gp_stderr = \\\n",
    "    start_background_process(\"python GPUpdate.py\", \"gp_stdout.log\", \"gp_stderr.log\")\n"
   ]
  },
  {
   "cell_type": "markdown",
   "metadata": {},
   "source": [
    "## Start the Plotting"
   ]
  },
  {
   "cell_type": "code",
   "execution_count": 6,
   "metadata": {},
   "outputs": [
    {
     "data": {
      "image/png": "[encoded data removed]",
      "text/plain": [
       "<Figure size 432x288 with 1 Axes>"
      ]
     },
     "metadata": {
      "needs_background": "light"
     },
     "output_type": "display_data"
    }
   ],
   "source": [
    "# Define ExactGPModel\n",
    "class ExactGPModel(gpytorch.models.ExactGP):\n",
    "    def __init__(self, train_x, train_y, likelihood):\n",
    "        super(ExactGPModel, self).__init__(train_x, train_y, likelihood)\n",
    "        self.mean_module = gpytorch.means.ConstantMean()\n",
    "        self.covar_module = gpytorch.kernels.ScaleKernel(\n",
    "            gpytorch.kernels.RBFKernel()  # noqa\n",
    "        )  # noqa\n",
    "\n",
    "    def forward(self, x):\n",
    "        mean_x = self.mean_module(x)\n",
    "        covar_x = self.covar_module(x)\n",
    "        return gpytorch.distributions.MultivariateNormal(mean_x, covar_x)\n",
    "\n",
    "\n",
    "# load model from off-line training data\n",
    "train_x = torch.load(\"data/train_x.pth\")\n",
    "train_y = torch.load(\"data/train_y.pth\")\n",
    "likelihood = gpytorch.likelihoods.GaussianLikelihood(\n",
    "    noise_constraint=gpytorch.constraints.GreaterThan(1e-3),\n",
    "    noise_prior=gpytorch.priors.NormalPrior(0, 0.1),\n",
    ")\n",
    "state_dict = torch.load(\"data/model_state_start.pth\")\n",
    "model = ExactGPModel(train_x, train_y, likelihood)\n",
    "model.load_state_dict(state_dict)\n",
    "\n",
    "PLOT.scheduled_fetch(model, likelihood)"
   ]
  },
  {
   "cell_type": "markdown",
   "metadata": {},
   "source": [
    "## Kill the Background Processes"
   ]
  },
  {
   "cell_type": "code",
   "execution_count": 6,
   "metadata": {},
   "outputs": [
    {
     "name": "stdout",
     "output_type": "stream",
     "text": [
      "stdout files closed\n",
      "stdout files closed\n"
     ]
    }
   ],
   "source": [
    "def kill_process(process, stdout_f, stderr_f):\n",
    "    \"\"\"Kills a process given a subprocess.Popen object.\"\"\"\n",
    "    try:\n",
    "        process.terminate()  # Sends SIGTERM\n",
    "        process.wait(timeout=5)  # Wait up to 5 seconds for the process to gracefully exit\n",
    "        stdout_f.close()\n",
    "        stderr_f.close()\n",
    "        print(\"stdout files closed\")\n",
    "    except subprocess.TimeoutExpired:\n",
    "        process.kill()  # Force kill if not terminated after timeout\n",
    "        process.wait()  # Wait for the process to be killed\n",
    "        stdout_f.close()\n",
    "        stderr_f.close()\n",
    "        print(\"stdout files closed\")\n",
    "    except Exception as e:\n",
    "        print(f\"Failed to kill the process: {str(e)}\")\n",
    "\n",
    "kill_process(daq_proc, daq_stdout, daq_stderr)\n",
    "kill_process(gp_proc, gp_stdout, gp_stderr)"
   ]
  }
 ],
 "metadata": {
  "kernelspec": {
   "display_name": "Python 3",
   "language": "python",
   "name": "python3"
  },
  "language_info": {
   "codemirror_mode": {
    "name": "ipython",
    "version": 3
   },
   "file_extension": ".py",
   "mimetype": "text/x-python",
   "name": "python",
   "nbconvert_exporter": "python",
   "pygments_lexer": "ipython3",
   "version": "3.8.19"
  }
 },
 "nbformat": 4,
 "nbformat_minor": 4
}
