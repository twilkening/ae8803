{
 "cells": [
  {
   "cell_type": "code",
   "execution_count": 7,
   "metadata": {},
   "outputs": [],
   "source": [
    "import numpy as np\n",
    "import matplotlib.pyplot as plt\n",
    "import matplotlib\n",
    "from scipy import stats\n",
    "from copy import deepcopy\n",
    "import pymc as pm\n",
    "import pytensor\n",
    "import pytensor.tensor as tt\n",
    "from pymc.gp.cov import Covariance\n",
    "from functools import partial\n",
    "from pytensor.tensor.linalg import cholesky, eigh #solve_triangular\n",
    "from scipy.stats import multivariate_normal\n",
    "from qwiic_ads1115.qwiic_ads1115 import QwiicAds1115\n"
   ]
  },
  {
   "cell_type": "code",
   "execution_count": 8,
   "metadata": {},
   "outputs": [
    {
     "name": "stdout",
     "output_type": "stream",
     "text": [
      "Unable to load I2C driver for this platform.\n"
     ]
    }
   ],
   "source": [
    "ads = QwiicAds1115()"
   ]
  },
  {
   "cell_type": "code",
   "execution_count": 10,
   "metadata": {},
   "outputs": [],
   "source": [
    "def velocity(pressure_diff,rho=1.204):\n",
    "    \"\"\"VELOCITY calculates the velocity of the airflow given a pitot\n",
    "    pressure difference measurement.\n",
    "\n",
    "    Args:\n",
    "        pressure_diff (float): total pressure - static pressure [kPa]\n",
    "            (output of MPXV7002 is 1V/kPa)\n",
    "        rho (float): density of the fluid [kg/m^3]\n",
    "            (1.204 kg/m3 at sea level per International Standard\n",
    "            Atmosphere)\n",
    "    Returns:\n",
    "        vel (float): calculated velocity [m/s]\n",
    "    \"\"\"\n",
    "    # calculate velocity per the following resource:\n",
    "    # https://www.grc.nasa.gov/www/k-12/VirtualAero/BottleRocket/airplane/pitot.html\n",
    "    vel = np.sqrt(2*pressure_diff / rho)\n",
    "    return vel"
   ]
  },
  {
   "cell_type": "code",
   "execution_count": 11,
   "metadata": {},
   "outputs": [
    {
     "data": {
      "text/plain": [
       "1.2888481555661677"
      ]
     },
     "execution_count": 11,
     "metadata": {},
     "output_type": "execute_result"
    }
   ],
   "source": [
    "velocity(1)"
   ]
  }
 ],
 "metadata": {
  "kernelspec": {
   "display_name": "ae8803",
   "language": "python",
   "name": "python3"
  },
  "language_info": {
   "codemirror_mode": {
    "name": "ipython",
    "version": 3
   },
   "file_extension": ".py",
   "mimetype": "text/x-python",
   "name": "python",
   "nbconvert_exporter": "python",
   "pygments_lexer": "ipython3",
   "version": "3.11.5"
  }
 },
 "nbformat": 4,
 "nbformat_minor": 2
}
