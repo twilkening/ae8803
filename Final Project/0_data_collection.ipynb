{
 "cells": [
  {
   "cell_type": "code",
   "execution_count": 1,
   "id": "charitable-system",
   "metadata": {},
   "outputs": [],
   "source": [
    "from qwiic_ads1115.qwiic_ads1115 import QwiicAds1115"
   ]
  },
  {
   "cell_type": "code",
   "execution_count": 2,
   "id": "pending-skill",
   "metadata": {},
   "outputs": [],
   "source": [
    "ads = QwiicAds1115()"
   ]
  },
  {
   "cell_type": "code",
   "execution_count": 3,
   "id": "concerned-sitting",
   "metadata": {},
   "outputs": [
    {
     "data": {
      "text/plain": [
       "True"
      ]
     },
     "execution_count": 3,
     "metadata": {},
     "output_type": "execute_result"
    }
   ],
   "source": [
    "ads.os = '0' # no effect\n",
    "ads.mux = '100' # Analog In, channel 0, compare to GND\n",
    "ads.gain = '000' # +/- 6.144V\n",
    "ads.mode = '0' # continuous\n",
    "ads.data_rate = '100' # 128 SPS\n",
    "ads.comp_que = '11' # disable comparator\n",
    "ads.scale = 1 # 1V = 1kPa delta between ports\n",
    "ads.is_connected()"
   ]
  },
  {
   "cell_type": "code",
   "execution_count": 4,
   "id": "confused-private",
   "metadata": {},
   "outputs": [
    {
     "data": {
      "text/plain": [
       "1"
      ]
     },
     "execution_count": 4,
     "metadata": {},
     "output_type": "execute_result"
    }
   ],
   "source": [
    "ads.configure()"
   ]
  },
  {
   "cell_type": "code",
   "execution_count": 5,
   "id": "thorough-sight",
   "metadata": {},
   "outputs": [
    {
     "data": {
      "text/plain": [
       "2.8048125"
      ]
     },
     "execution_count": 5,
     "metadata": {},
     "output_type": "execute_result"
    }
   ],
   "source": [
    "ads.get_measurement()"
   ]
  },
  {
   "cell_type": "code",
   "execution_count": 6,
   "id": "novel-murray",
   "metadata": {},
   "outputs": [],
   "source": [
    "ads.calibrate()"
   ]
  },
  {
   "cell_type": "code",
   "execution_count": 7,
   "id": "instant-audio",
   "metadata": {},
   "outputs": [
    {
     "data": {
      "text/plain": [
       "-0.001511250000000075"
      ]
     },
     "execution_count": 7,
     "metadata": {},
     "output_type": "execute_result"
    }
   ],
   "source": [
    "ads.get_measurement()"
   ]
  },
  {
   "cell_type": "markdown",
   "id": "polyphonic-spoke",
   "metadata": {},
   "source": [
    "## Data Collection"
   ]
  },
  {
   "cell_type": "code",
   "execution_count": null,
   "id": "established-calgary",
   "metadata": {},
   "outputs": [],
   "source": [
    "# setup the fan\n",
    "# start the jetbot spinning in a circle (set the motor PWM values)\n",
    "# for 2 mins\n",
    "    # collect measurements every n ms\n",
    "    # n defined by the ads.sample_rate\n",
    "    # time-stamp the measurement\n",
    "    # save the measurements into an array\n",
    "# save the measurement array for later use. time-stamp data collection with YYYY-MM-DDThhmm"
   ]
  }
 ],
 "metadata": {
  "kernelspec": {
   "display_name": "Python 3",
   "language": "python",
   "name": "python3"
  },
  "language_info": {
   "codemirror_mode": {
    "name": "ipython",
    "version": 3
   },
   "file_extension": ".py",
   "mimetype": "text/x-python",
   "name": "python",
   "nbconvert_exporter": "python",
   "pygments_lexer": "ipython3",
   "version": "3.6.9"
  }
 },
 "nbformat": 4,
 "nbformat_minor": 5
}
