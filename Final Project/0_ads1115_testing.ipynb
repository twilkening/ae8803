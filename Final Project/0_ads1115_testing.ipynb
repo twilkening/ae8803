{
 "cells": [
  {
   "cell_type": "code",
   "execution_count": 2,
   "id": "peripheral-sacrifice",
   "metadata": {},
   "outputs": [
    {
     "name": "stdout",
     "output_type": "stream",
     "text": [
      "Error loading module `ublox_gps`: No module named 'serial'\n"
     ]
    }
   ],
   "source": [
    "import qwiic"
   ]
  },
  {
   "cell_type": "code",
   "execution_count": 3,
   "id": "optical-cooperative",
   "metadata": {},
   "outputs": [
    {
     "data": {
      "text/plain": [
       "[(61, 'Qwiic Button', 'QwiicButton'),\n",
       " (61, 'Qwiic Micro OLED (64x48)', 'QwiicMicroOled'),\n",
       " (61, 'Qwiic 4m Distance Sensor (ToF)', 'QwiicVL53L1X'),\n",
       " (61, 'Qwiic PIR', 'QwiicPIR'),\n",
       " (72, 'Qwiic Button', 'QwiicButton'),\n",
       " (72, 'Qwiic PCA9685', 'QwiicPCA9685'),\n",
       " (72, 'Qwiic 4m Distance Sensor (ToF)', 'QwiicVL53L1X'),\n",
       " (72, 'Qwiic PIR', 'QwiicPIR'),\n",
       " (93, 'Qwiic Button', 'QwiicButton'),\n",
       " (93, 'Qwiic Serial Control Motor Driver', 'QwiicScmd'),\n",
       " (93, 'Qwiic PCA9685', 'QwiicPCA9685'),\n",
       " (93, 'Qwiic 4m Distance Sensor (ToF)', 'QwiicVL53L1X'),\n",
       " (93, 'Qwiic PIR', 'QwiicPIR')]"
      ]
     },
     "execution_count": 3,
     "metadata": {},
     "output_type": "execute_result"
    }
   ],
   "source": [
    "qwiic.list_devices()"
   ]
  },
  {
   "cell_type": "code",
   "execution_count": 4,
   "id": "sunrise-bottom",
   "metadata": {},
   "outputs": [
    {
     "data": {
      "text/plain": [
       "[<qwiic_button.QwiicButton at 0x7fa4517748>,\n",
       " <qwiic_micro_oled.QwiicMicroOled at 0x7fa4517ba8>,\n",
       " <qwiic_vl53l1x.QwiicVL53L1X at 0x7fa4517710>,\n",
       " <qwiic_pir.QwiicPIR at 0x7fa4517828>,\n",
       " <qwiic_button.QwiicButton at 0x7fa4517780>,\n",
       " <qwiic_pca9685.QwiicPCA9685 at 0x7fa4517978>,\n",
       " <qwiic_vl53l1x.QwiicVL53L1X at 0x7fa45177f0>,\n",
       " <qwiic_pir.QwiicPIR at 0x7fa4517be0>,\n",
       " <qwiic_button.QwiicButton at 0x7fa4517a20>,\n",
       " <qwiic_scmd.QwiicScmd at 0x7fa4517cc0>,\n",
       " <qwiic_pca9685.QwiicPCA9685 at 0x7fa4517c50>,\n",
       " <qwiic_vl53l1x.QwiicVL53L1X at 0x7fa45178d0>,\n",
       " <qwiic_pir.QwiicPIR at 0x7fa4517a58>]"
      ]
     },
     "execution_count": 4,
     "metadata": {},
     "output_type": "execute_result"
    }
   ],
   "source": [
    "qwiic.get_devices()"
   ]
  },
  {
   "cell_type": "code",
   "execution_count": 5,
   "id": "medical-stevens",
   "metadata": {},
   "outputs": [
    {
     "data": {
      "text/plain": [
       "[61, 72, 93]"
      ]
     },
     "execution_count": 5,
     "metadata": {},
     "output_type": "execute_result"
    }
   ],
   "source": [
    "qwiic.scan()"
   ]
  },
  {
   "cell_type": "code",
   "execution_count": 6,
   "id": "discrete-cornwall",
   "metadata": {},
   "outputs": [],
   "source": [
    "import qwiic_i2c\n",
    "import time"
   ]
  },
  {
   "cell_type": "code",
   "execution_count": 7,
   "id": "distant-nancy",
   "metadata": {},
   "outputs": [
    {
     "data": {
      "text/plain": [
       "15013"
      ]
     },
     "metadata": {},
     "output_type": "display_data"
    },
    {
     "data": {
      "text/plain": [
       "22524"
      ]
     },
     "metadata": {},
     "output_type": "display_data"
    }
   ],
   "source": [
    "my_bus = qwiic_i2c.getI2CDriver()\n",
    "# set 6V gain, continuous mode\n",
    "my_bus.writeBlock(72,0x01,[0b01000000, 0b10000011])\n",
    "time.sleep(0.1)\n",
    "# read data\n",
    "data = my_bus.readBlock(72,0x0,2)\n",
    "display(data[0] << 8 | data[1])\n",
    "time.sleep(0.1)\n",
    "# configure 4V gain, continuous mode\n",
    "my_bus.writeBlock(72,0x01,[0b01000010, 0b10000011])\n",
    "time.sleep(0.1)\n",
    "data2 = my_bus.readBlock(72,0x0,2)\n",
    "display(data2[0] << 8 | data2[1])\n",
    "\n"
   ]
  },
  {
   "cell_type": "code",
   "execution_count": 8,
   "id": "front-adolescent",
   "metadata": {},
   "outputs": [
    {
     "data": {
      "text/plain": [
       "15018"
      ]
     },
     "metadata": {},
     "output_type": "display_data"
    },
    {
     "data": {
      "text/plain": [
       "22531"
      ]
     },
     "metadata": {},
     "output_type": "display_data"
    },
    {
     "data": {
      "text/plain": [
       "22527"
      ]
     },
     "metadata": {},
     "output_type": "display_data"
    }
   ],
   "source": [
    "my_bus = qwiic_i2c.getI2CDriver()\n",
    "# set 6V gain, continuous mode\n",
    "# 01000101,\n",
    "my_bus.writeBlock(72,0x01,[64, 131])\n",
    "time.sleep(0.2)\n",
    "# read data\n",
    "data = my_bus.readBlock(72,0x0,2)\n",
    "display(data[0] << 8 | data[1])\n",
    "time.sleep(0.01)\n",
    "\n",
    "# configure 4V gain, continuous mode\n",
    "my_bus.writeBlock(72,0x01,[66, 131])\n",
    "time.sleep(0.2)\n",
    "data2 = my_bus.readBlock(72,0x0,2)\n",
    "display(data2[0] << 8 | data2[1])\n",
    "time.sleep(0.01)\n",
    "\n",
    "# configure 4V gain, continuous mode\n",
    "# data_rate = 16 SPS\n",
    "my_bus.writeBlock(72,0x01,[66, 35])\n",
    "time.sleep(0.2)\n",
    "data2 = my_bus.readBlock(72,0x0,2)\n",
    "display(data2[0] << 8 | data2[1])\n",
    "time.sleep(0.01)"
   ]
  },
  {
   "cell_type": "code",
   "execution_count": 9,
   "id": "focal-destruction",
   "metadata": {},
   "outputs": [
    {
     "data": {
      "text/plain": [
       "0"
      ]
     },
     "execution_count": 9,
     "metadata": {},
     "output_type": "execute_result"
    }
   ],
   "source": [
    "success = [66,33] == my_bus.readBlock(72,0x01,2)\n",
    "int(success)"
   ]
  },
  {
   "cell_type": "code",
   "execution_count": 10,
   "id": "special-harris",
   "metadata": {},
   "outputs": [
    {
     "name": "stdout",
     "output_type": "stream",
     "text": [
      "/workspace/Notebooks/ae8803/Final Project\n"
     ]
    }
   ],
   "source": [
    "!pwd"
   ]
  },
  {
   "cell_type": "code",
   "execution_count": 12,
   "id": "confident-regular",
   "metadata": {},
   "outputs": [],
   "source": [
    "from qwiic_ads1115.qwiic_ads1115 import QwiicAds1115\n",
    "from bitarray import bitarray"
   ]
  },
  {
   "cell_type": "code",
   "execution_count": 13,
   "id": "dependent-arbor",
   "metadata": {},
   "outputs": [],
   "source": [
    "ads = QwiicAds1115()"
   ]
  },
  {
   "cell_type": "code",
   "execution_count": 14,
   "id": "promotional-update",
   "metadata": {},
   "outputs": [
    {
     "data": {
      "text/plain": [
       "'0'"
      ]
     },
     "execution_count": 14,
     "metadata": {},
     "output_type": "execute_result"
    }
   ],
   "source": [
    "ads.os = '0'\n",
    "ads.os"
   ]
  },
  {
   "cell_type": "code",
   "execution_count": 15,
   "id": "filled-timber",
   "metadata": {},
   "outputs": [
    {
     "data": {
      "text/plain": [
       "True"
      ]
     },
     "execution_count": 15,
     "metadata": {},
     "output_type": "execute_result"
    }
   ],
   "source": [
    "ads.mux = '100'\n",
    "ads.gain = '000'\n",
    "ads.mode = '0'\n",
    "ads.data_rate = '100'\n",
    "ads.is_connected()"
   ]
  },
  {
   "cell_type": "code",
   "execution_count": 16,
   "id": "alleged-accreditation",
   "metadata": {},
   "outputs": [
    {
     "data": {
      "text/plain": [
       "1"
      ]
     },
     "execution_count": 16,
     "metadata": {},
     "output_type": "execute_result"
    }
   ],
   "source": [
    "ads.configure()"
   ]
  },
  {
   "cell_type": "code",
   "execution_count": 17,
   "id": "selected-classics",
   "metadata": {},
   "outputs": [
    {
     "data": {
      "text/plain": [
       "2.8130625"
      ]
     },
     "execution_count": 17,
     "metadata": {},
     "output_type": "execute_result"
    }
   ],
   "source": [
    "ads.get_measurement()"
   ]
  },
  {
   "cell_type": "code",
   "execution_count": 18,
   "id": "casual-array",
   "metadata": {},
   "outputs": [],
   "source": [
    "ads.calibrate()"
   ]
  },
  {
   "cell_type": "code",
   "execution_count": 19,
   "id": "comfortable-diamond",
   "metadata": {},
   "outputs": [
    {
     "data": {
      "text/plain": [
       "-0.007627500000000786"
      ]
     },
     "execution_count": 19,
     "metadata": {},
     "output_type": "execute_result"
    }
   ],
   "source": [
    "ads.get_measurement()"
   ]
  },
  {
   "cell_type": "code",
   "execution_count": 20,
   "id": "furnished-snapshot",
   "metadata": {},
   "outputs": [
    {
     "data": {
      "text/plain": [
       "2"
      ]
     },
     "execution_count": 20,
     "metadata": {},
     "output_type": "execute_result"
    }
   ],
   "source": [
    "int(\"010\", base=2)"
   ]
  },
  {
   "cell_type": "code",
   "execution_count": 21,
   "id": "lasting-quarter",
   "metadata": {},
   "outputs": [
    {
     "data": {
      "text/plain": [
       "'10000101'"
      ]
     },
     "execution_count": 21,
     "metadata": {},
     "output_type": "execute_result"
    }
   ],
   "source": [
    "\"1\" + \"000\" + \"010\" + \"1\""
   ]
  },
  {
   "cell_type": "code",
   "execution_count": 22,
   "id": "urban-mouse",
   "metadata": {},
   "outputs": [
    {
     "data": {
      "text/plain": [
       "133"
      ]
     },
     "execution_count": 22,
     "metadata": {},
     "output_type": "execute_result"
    }
   ],
   "source": [
    "int(\"1\" + \"000\" + \"010\" + \"1\", base=2)"
   ]
  },
  {
   "cell_type": "code",
   "execution_count": null,
   "id": "hollow-start",
   "metadata": {},
   "outputs": [],
   "source": []
  }
 ],
 "metadata": {
  "kernelspec": {
   "display_name": "Python 3",
   "language": "python",
   "name": "python3"
  },
  "language_info": {
   "codemirror_mode": {
    "name": "ipython",
    "version": 3
   },
   "file_extension": ".py",
   "mimetype": "text/x-python",
   "name": "python",
   "nbconvert_exporter": "python",
   "pygments_lexer": "ipython3",
   "version": "3.6.9"
  }
 },
 "nbformat": 4,
 "nbformat_minor": 5
}
